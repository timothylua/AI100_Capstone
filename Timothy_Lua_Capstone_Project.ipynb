## Import the folium library and HeatMap folium plugin here

import folium
from folium.plugins import HeatMap

## Write your code below

lat_and_long = []

for row in hdb_resale_listings:
    
    new_lat = row[13]
    new_long = row[12]
    flat_type = row[2]
    
    if flat_type == "4 ROOM":
    
        lat_and_long.append([new_lat, new_long])
        
    
map_folium = folium.Map([1.357,103.826], zoom_start=11.4, height=350, width=800)

# Pass in latitude and longitude data and HeatMap configurations. Add the generated HeatMap to the base map
HeatMap(lat_and_long, radius=8, gradient={0.2:'blue',0.4:'purple',0.6:'orange',1.0:'red'}).add_to(map_folium) 

display(map_folium)
