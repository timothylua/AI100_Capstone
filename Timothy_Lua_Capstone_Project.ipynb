
import folium
from folium.plugins import HeatMap

## Write your code below

lat_and_long = []

for row in hdb_resale_listings:
    
    new_lat = row[13]
    new_long = row[12]
    flat_type = row[2]
    
    if flat_type == "4 ROOM":
    
        lat_and_long.append([new_lat, new_long])
        
    
map_folium = folium.Map([1.357,103.826], zoom_start=11.4, height=350, width=800)

# Pass in latitude and longitude data and HeatMap configurations. Add the generated HeatMap to the base map
HeatMap(lat_and_long, radius=8, gradient={0.2:'blue',0.4:'purple',0.6:'orange',1.0:'red'}).add_to(map_folium) 

display(map_folium)

# Import the MarkerCluster folium plugin
from folium.plugins import MarkerCluster

## Write your code below (Note: the Folium map output might take a while to load)
lat_long, listing_price = extract_lat_long_price(hdb_resale_listings)

# from folium.plugins import MarkerCluster

map_folium = folium.Map([1.357,103.826], height=550, width=990, zoom_start=11.5)

marker_cluster = MarkerCluster().add_to(map_folium)

for i in range(len(lat_long)):

    
    lat_long_of_point = lat_long[i]
    price_of_point = listing_price[i]
    
    popup_text = '$' + str(price_of_point)  # Get the price of listing and format the string
    folium.Marker(lat_long_of_point, popup = popup_text, tooltip = "Click to view price").add_to(marker_cluster)    # Get a pair of lat and long


display(map_folium)

import csv

hdb_resale_listings = []

with open('HDB_Resale_With_Geocoordinates.csv', newline='', encoding="utf8") as f:
    reader = csv.reader(f)
    for row in reader:
        hdb_resale_listings.append(row)

    # Remove header
    hdb_resale_listings_headers = hdb_resale_listings[0]
    hdb_resale_listings = hdb_resale_listings[1:]
    
print(hdb_resale_listings[0]) # Print first row of data

for row in hdb_resale_listings:
    
    # Extract data from specific columns and store into variables for easy access
    floor_area_sqm = row[6]
    lease_remaining = row[9]                 
    resale_price = row[10]
    longitude = row[12]
    latitude = row[13]
    
    row[6] = float(floor_area_sqm)
    
    # If lease_remaining info is of string data type
    if isinstance(lease_remaining,str):
        row[9] = int(lease_remaining[:2]) # Get years of lease remaining with slicing, and convert it to int type
   
    row[10] = float(resale_price)
    
    if longitude == '':
        row[12] = 0
    else:
        row[12] = float(longitude)
        
    if latitude == '':
        row[13] = 0
    else:
        row[13] = float(latitude)

print(hdb_resale_listings[:5]) # Print first 5 rows of data

def extract_lat_long_price(database):
    
    lat_long = []
    listing_price = []

    for row in hdb_resale_listings:
        
        flat_type = row[2]
    
        if flat_type == "4 ROOM": 

            lat_long.append([row[13],row[12]])
            listing_price.append(row[10])
        
    # Yes you can return multiple outputs like this in python
    return lat_long, listing_price
