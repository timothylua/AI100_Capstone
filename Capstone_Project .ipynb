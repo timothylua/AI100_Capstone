{
 "cells": [
  {
   "cell_type": "markdown",
   "metadata": {},
   "source": [
    "Folium Marker Cluster of all 4 room resale listings in Singapore\n",
    "===\n",
    "***"
   ]
  },
  {
   "cell_type": "code",
   "execution_count": null,
   "metadata": {},
   "outputs": [],
   "source": [
    "# Import the MarkerCluster folium plugin\n",
    "from folium.plugins import MarkerCluster\n",
    "\n",
    "## Write your code below (Note: the Folium map output might take a while to load)\n",
    "lat_long, listing_price = extract_lat_long_price(hdb_resale_listings)\n",
    "\n",
    "# from folium.plugins import MarkerCluster\n",
    "\n",
    "map_folium = folium.Map([1.357,103.826], height=550, width=990, zoom_start=11.5)\n",
    "\n",
    "marker_cluster = MarkerCluster().add_to(map_folium)\n",
    "\n",
    "for i in range(len(lat_long)):\n",
    "\n",
    "    \n",
    "    lat_long_of_point = lat_long[i]\n",
    "    price_of_point = listing_price[i]\n",
    "    \n",
    "    popup_text = '$' + str(price_of_point)  # Get the price of listing and format the string\n",
    "    folium.Marker(lat_long_of_point, popup = popup_text, tooltip = \"Click to view price\").add_to(marker_cluster)    # Get a pair of lat and long\n",
    "\n",
    "\n",
    "display(map_folium)\n"
   ]
  },
  {
   "cell_type": "code",
   "execution_count": 7,
   "metadata": {},
   "outputs": [
    {
     "name": "stdout",
     "output_type": "stream",
     "text": [
      "['2017-01', 'ANG MO KIO', '2 ROOM', '406', 'ANG MO KIO AVE 10', '10 TO 12', '44', 'Improved', '1979', '61 years 04 months', '232000', '406 ANG MO KIO AVE 10', '103.8538799', '1.362004539']\n"
     ]
    }
   ],
   "source": [
    "# Run this cell to load the HDB listings data into a nested list\n",
    "\n",
    "import csv\n",
    "\n",
    "hdb_resale_listings = []\n",
    "\n",
    "with open('HDB_Resale_With_Geocoordinates.csv', newline='', encoding=\"utf8\") as f:\n",
    "    reader = csv.reader(f)\n",
    "    for row in reader:\n",
    "        hdb_resale_listings.append(row)\n",
    "\n",
    "    # Remove header\n",
    "    hdb_resale_listings_headers = hdb_resale_listings[0]\n",
    "    hdb_resale_listings = hdb_resale_listings[1:]\n",
    "    \n",
    "print(hdb_resale_listings[0]) # Print first row of data"
   ]
  },
  {
   "cell_type": "markdown",
   "metadata": {},
   "source": [
    "import pandas as pd\n",
    "\n",
    "hdb_resale_df = pd.read_csv(\"HDB_Resale_With_Geocoordinates.csv\")\n",
    "hdb_resale_df"
   ]
  },
  {
   "cell_type": "code",
   "execution_count": 10,
   "metadata": {},
   "outputs": [
    {
     "name": "stdout",
     "output_type": "stream",
     "text": [
      "[['2017-01', 'ANG MO KIO', '2 ROOM', '406', 'ANG MO KIO AVE 10', '10 TO 12', 44.0, 'Improved', '1979', 61, 232000.0, '406 ANG MO KIO AVE 10', 103.8538799, 1.362004539], ['2017-01', 'ANG MO KIO', '3 ROOM', '108', 'ANG MO KIO AVE 4', '01 TO 03', 67.0, 'New Generation', '1978', 60, 250000.0, '108 ANG MO KIO AVE 4', 103.8382019, 1.370966352], ['2017-01', 'ANG MO KIO', '3 ROOM', '602', 'ANG MO KIO AVE 5', '01 TO 03', 67.0, 'New Generation', '1980', 62, 262000.0, '602 ANG MO KIO AVE 5', 103.8353682, 1.38070883], ['2017-01', 'ANG MO KIO', '3 ROOM', '465', 'ANG MO KIO AVE 10', '04 TO 06', 68.0, 'New Generation', '1980', 62, 265000.0, '465 ANG MO KIO AVE 10', 103.857201, 1.366201041], ['2017-01', 'ANG MO KIO', '3 ROOM', '601', 'ANG MO KIO AVE 5', '01 TO 03', 67.0, 'New Generation', '1980', 62, 265000.0, '601 ANG MO KIO AVE 5', 103.8351317, 1.381041355]]\n"
     ]
    }
   ],
   "source": [
    "# Run this cell of code to clean the csv dataset\n",
    "\n",
    "# Iterate through nested list of HDB resale data\n",
    "for row in hdb_resale_listings:\n",
    "    \n",
    "    # Extract data from specific columns and store into variables for easy access\n",
    "    floor_area_sqm = row[6]\n",
    "    lease_remaining = row[9]                 \n",
    "    resale_price = row[10]\n",
    "    longitude = row[12]\n",
    "    latitude = row[13]\n",
    "    \n",
    "    row[6] = float(floor_area_sqm)\n",
    "    \n",
    "    # If lease_remaining info is of string data type\n",
    "    if isinstance(lease_remaining,str):\n",
    "        row[9] = int(lease_remaining[:2]) # Get years of lease remaining with slicing, and convert it to int type\n",
    "   \n",
    "    row[10] = float(resale_price)\n",
    "    \n",
    "    if longitude == '':\n",
    "        row[12] = 0\n",
    "    else:\n",
    "        row[12] = float(longitude)\n",
    "        \n",
    "    if latitude == '':\n",
    "        row[13] = 0\n",
    "    else:\n",
    "        row[13] = float(latitude)\n",
    "\n",
    "print(hdb_resale_listings[:5]) # Print first 5 rows of data"
   ]
  },
  {
   "cell_type": "markdown",
   "metadata": {},
   "source": [
    "For your visualisation, we display a snippet of the cleaned data stored in the variable <code>hdb_resale_listings</code> in a tabular format. "
   ]
  },
  {
   "cell_type": "markdown",
   "metadata": {},
   "source": [
    "hdb_resale_df = pd.DataFrame(hdb_resale_listings, columns = hdb_resale_listings_headers)\n",
    "hdb_resale_df.head()"
   ]
  },
  {
   "cell_type": "code",
   "execution_count": null,
   "metadata": {},
   "outputs": [],
   "source": [
    "def extract_lat_long_price(database):\n",
    "    \n",
    "    lat_long = []\n",
    "    listing_price = []\n",
    "\n",
    "    for row in hdb_resale_listings:\n",
    "        \n",
    "        flat_type = row[2]\n",
    "    \n",
    "        if flat_type == \"4 ROOM\": \n",
    "\n",
    "            lat_long.append([row[13],row[12]])\n",
    "            listing_price.append(row[10])\n",
    "        \n",
    "    # Yes you can return multiple outputs like this in python\n",
    "    return lat_long, listing_price"
   ]
  }
 ],
 "metadata": {
  "kernelspec": {
   "display_name": "Python 3",
   "language": "python",
   "name": "python3"
  },
  "language_info": {
   "codemirror_mode": {
    "name": "ipython",
    "version": 3
   },
   "file_extension": ".py",
   "mimetype": "text/x-python",
   "name": "python",
   "nbconvert_exporter": "python",
   "pygments_lexer": "ipython3",
   "version": "3.8.5"
  }
 },
 "nbformat": 4,
 "nbformat_minor": 4
}
