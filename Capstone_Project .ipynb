{
 "cells": [
  {
   "cell_type": "code",
   "execution_count": null,
   "metadata": {},
   "outputs": [],
   "source": [
    "import pandas as pd\n",
    "\n",
    "hdb_resale_df = pd.read_csv(\"data/HDB_Resale_With_Geocoordinates.csv\")"
   ]
  },
  {
   "cell_type": "code",
   "execution_count": null,
   "metadata": {},
   "outputs": [],
   "source": [
    "import csv\n",
    "\n",
    "hdb_resale_listings = []\n",
    "\n",
    "with open('data/HDB_Resale_With_Geocoordinates.csv', newline='', encoding=\"utf8\") as f:\n",
    "    reader = csv.reader(f)\n",
    "    for row in reader:\n",
    "        hdb_resale_listings.append(row)\n",
    "\n",
    "    # Remove header\n",
    "    hdb_resale_listings_headers = hdb_resale_listings[0]\n",
    "    hdb_resale_listings = hdb_resale_listings[1:]\n",
    "    \n",
    "print(hdb_resale_listings[0]) # Print first row of data"
   ]
  },
  {
   "cell_type": "code",
   "execution_count": null,
   "metadata": {},
   "outputs": [],
   "source": [
    "def extract_lat_long_price(database):\n",
    "    \n",
    "    lat_long = []\n",
    "    listing_price = []\n",
    "\n",
    "    for row in hdb_resale_listings:\n",
    "        \n",
    "        flat_type = row[2]\n",
    "    \n",
    "        if flat_type == \"4 ROOM\": \n",
    "\n",
    "            lat_long.append([row[13],row[12]])\n",
    "            listing_price.append(row[10])\n",
    "        \n",
    "    return lat_long, listing_price"
   ]
  },
  {
   "cell_type": "code",
   "execution_count": null,
   "metadata": {},
   "outputs": [],
   "source": [
    "\n",
    "for row in hdb_resale_listings:\n",
    "    \n",
    "    # Extract data from specific columns and store into variables for easy access\n",
    "    floor_area_sqm = row[6]\n",
    "    lease_remaining = row[9]                 \n",
    "    resale_price = row[10]\n",
    "    longitude = row[12]\n",
    "    latitude = row[13]\n",
    "    \n",
    "    row[6] = float(floor_area_sqm)\n",
    "    \n",
    "    # If lease_remaining info is of string data type\n",
    "    if isinstance(lease_remaining,str):\n",
    "        row[9] = int(lease_remaining[:2]) # Get years of lease remaining with slicing, and convert it to int type\n",
    "   \n",
    "    row[10] = float(resale_price)\n",
    "    \n",
    "    if longitude == '':\n",
    "        row[12] = 0\n",
    "    else:\n",
    "        row[12] = float(longitude)\n",
    "        \n",
    "    if latitude == '':\n",
    "        row[13] = 0\n",
    "    else:\n",
    "        row[13] = float(latitude)\n",
    "\n",
    "print(hdb_resale_listings[:5])"
   ]
  },
  {
   "cell_type": "markdown",
   "metadata": {},
   "source": [
    "Folium Marker Cluster of all 4 room resale listings in Singapore\n",
    "===\n",
    "***"
   ]
  },
  {
   "cell_type": "code",
   "execution_count": null,
   "metadata": {
    "scrolled": true
   },
   "outputs": [],
   "source": [
    "import folium\n",
    "from folium.plugins import HeatMap\n",
    "\n",
    "## Write your code below\n",
    "\n",
    "lat_and_long = []\n",
    "\n",
    "for row in hdb_resale_listings:\n",
    "    \n",
    "    new_lat = row[13]\n",
    "    new_long = row[12]\n",
    "    flat_type = row[2]\n",
    "    \n",
    "    if flat_type == \"4 ROOM\":\n",
    "    \n",
    "        lat_and_long.append([new_lat, new_long])\n",
    "        \n",
    "    \n",
    "map_folium = folium.Map([1.357,103.826], zoom_start=11.4, height=350, width=800)\n",
    "\n",
    "# Pass in latitude and longitude data and HeatMap configurations. Add the generated HeatMap to the base map\n",
    "HeatMap(lat_and_long, radius=8, gradient={0.2:'blue',0.4:'purple',0.6:'orange',1.0:'red'}).add_to(map_folium) \n",
    "\n",
    "display(map_folium)\n"
   ]
  },
  {
   "cell_type": "code",
   "execution_count": null,
   "metadata": {},
   "outputs": [],
   "source": []
  }
 ],
 "metadata": {
  "kernelspec": {
   "display_name": "Python 3",
   "language": "python",
   "name": "python3"
  },
  "language_info": {
   "codemirror_mode": {
    "name": "ipython",
    "version": 3
   },
   "file_extension": ".py",
   "mimetype": "text/x-python",
   "name": "python",
   "nbconvert_exporter": "python",
   "pygments_lexer": "ipython3",
   "version": "3.8.5"
  }
 },
 "nbformat": 4,
 "nbformat_minor": 4
}
